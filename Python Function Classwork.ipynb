{
  "metadata": {
    "language_info": {
      "codemirror_mode": {
        "name": "python",
        "version": 3
      },
      "file_extension": ".py",
      "mimetype": "text/x-python",
      "name": "python",
      "nbconvert_exporter": "python",
      "pygments_lexer": "ipython3",
      "version": "3.8"
    },
    "kernelspec": {
      "name": "python",
      "display_name": "Python (Pyodide)",
      "language": "python"
    }
  },
  "nbformat_minor": 4,
  "nbformat": 4,
  "cells": [
    {
      "cell_type": "code",
      "source": "#1 Write a function to calculate the multiplication and sum of two n\nnumbers",
      "metadata": {},
      "execution_count": null,
      "outputs": []
    },
    {
      "cell_type": "code",
      "source": "#2 Write a function to print the sum of the current number and the previous number.\nprint(\"Printing the sum of current and previous number in a range(6)\")\nprevious_num = 1\nfor m in range(2,7):\n    a_sum = previous_num + m \n    print(\"Current Number =\", m, \"Previous Number =\",previous_num, \" Sum: \", a_sum)\n    previous_num = m\n    ",
      "metadata": {
        "trusted": true
      },
      "execution_count": 9,
      "outputs": [
        {
          "name": "stdout",
          "text": "Printing the sum of current and previous number in a range(6)\nCurrent Number = 2 Previous Number = 1  Sum:  3\nCurrent Number = 3 Previous Number = 2  Sum:  5\nCurrent Number = 4 Previous Number = 3  Sum:  7\nCurrent Number = 5 Previous Number = 4  Sum:  9\nCurrent Number = 6 Previous Number = 5  Sum:  11\n",
          "output_type": "stream"
        }
      ]
    },
    {
      "cell_type": "code",
      "source": "#3 Write a function to print characters from a string that are present at an even index nimver.\n\ncar='hyundaie'\nlength = len(car)\nprint ('characters at only even index number')\nfor z in range (0, length-1, 2):\n    print ('index[',z,']=', car[z])",
      "metadata": {
        "trusted": true
      },
      "execution_count": 5,
      "outputs": [
        {
          "name": "stdout",
          "text": "characters at only even index number\nindex[ 0 ]= h\nindex[ 2 ]= u\nindex[ 4 ]= d\nindex[ 6 ]= i\n",
          "output_type": "stream"
        }
      ]
    },
    {
      "cell_type": "code",
      "source": "#4 Write a function to remove first characters from a string.\nhouse= 'bungalow' \ndef remove_first_characters (house,n):\n   for n in range(1,7):\n    print(\"The first character removed from a string\")\n    print(remove_first_characters(\"bungalow\", n))",
      "metadata": {
        "trusted": true
      },
      "execution_count": 10,
      "outputs": []
    },
    {
      "cell_type": "code",
      "source": "#4 Write a function to remove first characters from a string.\nhouse= 'bungalow' \ndef remove_first_characters (house,n):\n   for n in range(1,7):\n    print(\"The first character removed from a string\")\n    print(remove_first_characters(\"bungalow\",n))",
      "metadata": {
        "trusted": true
      },
      "execution_count": 10,
      "outputs": []
    },
    {
      "cell_type": "code",
      "source": "#5 Write a function to check if the first and last number of a list is the same \ndef first_last_same(numberList):\n    print(\"Given list:\", numberList)\n    first_num = numberList[0]\n    last_num = numberList[-1]\n    numbers_x =[2,3,4,5,6]\n    print(\"result is\", first_last_same(numbers_x))",
      "metadata": {
        "trusted": true
      },
      "execution_count": 11,
      "outputs": []
    },
    {
      "cell_type": "code",
      "source": "#6 Write a function to print multiplication table from 1 to 10\n\nfor m in range(1, 11):\n    for n in range(1, 11):\n        print(m * n, end = \" \")\n    print(\"\\ t\\ t\")",
      "metadata": {
        "trusted": true
      },
      "execution_count": 19,
      "outputs": [
        {
          "name": "stdout",
          "text": "1 2 3 4 5 6 7 8 9 10 \\ t\\ t\n2 4 6 8 10 12 14 16 18 20 \\ t\\ t\n3 6 9 12 15 18 21 24 27 30 \\ t\\ t\n4 8 12 16 20 24 28 32 36 40 \\ t\\ t\n5 10 15 20 25 30 35 40 45 50 \\ t\\ t\n6 12 18 24 30 36 42 48 54 60 \\ t\\ t\n7 14 21 28 35 42 49 56 63 70 \\ t\\ t\n8 16 24 32 40 48 56 64 72 80 \\ t\\ t\n9 18 27 36 45 54 63 72 81 90 \\ t\\ t\n10 20 30 40 50 60 70 80 90 100 \\ t\\ t\n",
          "output_type": "stream"
        }
      ]
    },
    {
      "cell_type": "code",
      "source": "#7 Given a two list of numbers, write a function to create a new list such that the new list should contain odd numbers from the first list and even numbers from the second list \ndef merge_list(listA, listB):\n    return_list = []\n    for num in listA:\n       if num % 2 != 0:\n        return_list.append(num)\n        for num in listB:\n            if num % 2 == 0:\n                return_list.append(num)\n                return return_list\nlistA = [10, 4, 5, 6, 30]\nlistB = [19, 45, 60, 13, 21]\n\nprint(\"return_list:\", merge_list(listA, listB))\n        ",
      "metadata": {
        "trusted": true
      },
      "execution_count": 9,
      "outputs": [
        {
          "name": "stdout",
          "text": "return_list: [5, 60]\n",
          "output_type": "stream"
        }
      ]
    }
  ]
}